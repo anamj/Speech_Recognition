{
 "cells": [
  {
   "cell_type": "code",
   "execution_count": 21,
   "metadata": {
    "collapsed": true
   },
   "outputs": [],
   "source": [
    "# 299099, 39\n",
    "#python 2.7\n",
    "import numpy as np\n",
    "import tensorflow as tf\n",
    "#no shuffle\n",
    "trainData=[]\n",
    "trainLabel=[]\n",
    "valiData=[]\n",
    "valiLabel=[]"
   ]
  },
  {
   "cell_type": "code",
   "execution_count": 19,
   "metadata": {
    "collapsed": false
   },
   "outputs": [
    {
     "name": "stdout",
     "output_type": "stream",
     "text": [
      "Successfully downloaded train-images-idx3-ubyte.gz 9912422 bytes.\n",
      "Extracting MNIST_data/train-images-idx3-ubyte.gz\n",
      "Successfully downloaded train-labels-idx1-ubyte.gz 28881 bytes.\n",
      "Extracting MNIST_data/train-labels-idx1-ubyte.gz\n",
      "Successfully downloaded t10k-images-idx3-ubyte.gz 1648877 bytes.\n",
      "Extracting MNIST_data/t10k-images-idx3-ubyte.gz\n",
      "Successfully downloaded t10k-labels-idx1-ubyte.gz 4542 bytes.\n",
      "Extracting MNIST_data/t10k-labels-idx1-ubyte.gz\n"
     ]
    }
   ],
   "source": [
    "from tensorflow.examples.tutorials.mnist import input_data\n",
    "mnist = input_data.read_data_sets(\"MNIST_data/\", one_hot=True)"
   ]
  },
  {
   "cell_type": "code",
   "execution_count": 43,
   "metadata": {
    "collapsed": false
   },
   "outputs": [
    {
     "data": {
      "text/plain": [
       "(55000, 10)"
      ]
     },
     "execution_count": 43,
     "metadata": {},
     "output_type": "execute_result"
    }
   ],
   "source": [
    "trainData=mnist.train.images\n",
    "trainLabel=mnist.train.labels\n",
    "valiData=mnist.test.images\n",
    "valiLabel=mnist.test.labels\n",
    "shape(trainLabel)"
   ]
  },
  {
   "cell_type": "code",
   "execution_count": 62,
   "metadata": {
    "collapsed": false
   },
   "outputs": [
    {
     "name": "stdout",
     "output_type": "stream",
     "text": [
      "You are now at epoch 0!\n",
      "The accuracy of validation part is: 0.864400\n",
      "You are now at epoch 1!\n",
      "The accuracy of validation part is: 0.894800\n",
      "You are now at epoch 2!\n",
      "The accuracy of validation part is: 0.908200\n",
      "You are now at epoch 3!\n",
      "The accuracy of validation part is: 0.915400\n",
      "You are now at epoch 4!\n",
      "The accuracy of validation part is: 0.920400\n",
      "Task over. Model has been built.\n"
     ]
    }
   ],
   "source": [
    "RANDOM_SEED = 10\n",
    "tf.set_random_seed(RANDOM_SEED)\n",
    "\n",
    "def initial_weights(shape):\n",
    "    w=tf.random_normal(shape,stddev=0.1)\n",
    "    return tf.Variable(w)\n",
    "def initial_bias(shape):\n",
    "    b=tf.constant(0.1,shape=[shape])\n",
    "    return tf.Variable(b)\n",
    "\n",
    "#suppose two layers, output doesn't use softmax\n",
    "def forward_propagation(X,w1,w2,b1,b2):\n",
    "    h1=tf.matmul(X,w1)+b1\n",
    "    y1=tf.nn.sigmoid(h1)\n",
    "    h2=tf.matmul(y1,w2)+b2\n",
    "    return h2\n",
    "\n",
    "def main():\n",
    "    feature_dimension=trainData.shape[1]\n",
    "    result_dimension=trainLabel.shape[1]\n",
    "    hidden_layer_size=256\n",
    "    input_data=tf.placeholder(\"float\",shape=[None,feature_dimension])\n",
    "    output_data=tf.placeholder(\"float\",shape=[None,result_dimension])\n",
    "    w1=initial_weights((feature_dimension,hidden_layer_size))\n",
    "    b1=initial_bias(hidden_layer_size)   \n",
    "    w2=initial_weights((hidden_layer_size,result_dimension))\n",
    "    b2=initial_bias(result_dimension)\n",
    "    #forward propagation\n",
    "    y2=forward_propagation(input_data,w1,w2,b1,b2)\n",
    "    prediction=tf.argmax(y2,1)\n",
    "    #backward propagation\n",
    "    cost=tf.reduce_mean(tf.nn.softmax_cross_entropy_with_logits(y2,output_data))\n",
    "    optimizer=tf.train.AdamOptimizer()\n",
    "    minimize=optimizer.minimize(cost)\n",
    "    #Run our train optimization in session\n",
    "    with tf.Session() as sess:\n",
    "        init_op=tf.initialize_all_variables()\n",
    "        sess.run(init_op)\n",
    "        batch_size=1000\n",
    "        number_of_batch=len(trainData)/batch_size\n",
    "        number_of_epoch=5\n",
    "        for epoch in xrange(number_of_epoch):\n",
    "            #no shuffle currently\n",
    "            for i in xrange(number_of_batch):\n",
    "                inData=trainData[i*batch_size:(i+1)*batch_size]\n",
    "                outData=trainLabel[i*batch_size:(i+1)*batch_size]\n",
    "                sess.run(minimize,feed_dict={input_data:inData, output_data:outData})\n",
    "            pre_result=sess.run(prediction,feed_dict={input_data:valiData ,output_data:valiLabel})\n",
    "            validation_accuracy=np.mean(pre_result==np.argmax(valiLabel,1))\n",
    "            print(\"You are now at epoch %d!\" % epoch)\n",
    "            print(\"The accuracy of validation part is: %f\" % validation_accuracy)\n",
    "        print(\"Task over. Model has been built.\")\n",
    "        #Save=tf.train.Saver()\n",
    "        #save_path=Save.save(sess,\"/Users/shichangtai/Desktop/Kaggle/model.ckpt\")\n",
    "\n",
    "if __name__ == '__main__':\n",
    "    main()   \n",
    "\n",
    "    \n",
    "    \n",
    "    \n",
    "    \n",
    "    "
   ]
  },
  {
   "cell_type": "code",
   "execution_count": null,
   "metadata": {
    "collapsed": true
   },
   "outputs": [],
   "source": [
    "Save=tf.train.Saver()\n",
    "with tf.Session() as sess:\n",
    "    Save.restore(sess,\"/Users/shichangtai/Desktop/Kaggle/model.ckpt\")\n",
    "    #predict new data\n",
    "    resultVec=sess.run(prediction,{data: [[[1],[0],[0],[1],[1],[0],[1],[1],[1],[0],[1],[0],[0],[1],[1],[0],[1],[1],[1],[0]]]})\n",
    "    print resultVec[0]\n",
    "    print resultVec[0].argmax()"
   ]
  }
 ],
 "metadata": {
  "kernelspec": {
   "display_name": "Python 2",
   "language": "python",
   "name": "python2"
  },
  "language_info": {
   "codemirror_mode": {
    "name": "ipython",
    "version": 2
   },
   "file_extension": ".py",
   "mimetype": "text/x-python",
   "name": "python",
   "nbconvert_exporter": "python",
   "pygments_lexer": "ipython2",
   "version": "2.7.12"
  }
 },
 "nbformat": 4,
 "nbformat_minor": 1
}
